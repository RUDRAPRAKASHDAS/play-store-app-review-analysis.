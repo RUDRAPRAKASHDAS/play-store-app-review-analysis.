{
  "nbformat": 4,
  "nbformat_minor": 0,
  "metadata": {
    "kernelspec": {
      "display_name": "Python 3",
      "language": "python",
      "name": "python3"
    },
    "language_info": {
      "codemirror_mode": {
        "name": "ipython",
        "version": 3
      },
      "file_extension": ".py",
      "mimetype": "text/x-python",
      "name": "python",
      "nbconvert_exporter": "python",
      "pygments_lexer": "ipython3",
      "version": "3.6.6"
    },
    "colab": {
      "provenance": [],
      "include_colab_link": true
    }
  },
  "cells": [
    {
      "cell_type": "markdown",
      "metadata": {
        "id": "view-in-github",
        "colab_type": "text"
      },
      "source": [
        "<a href=\"https://colab.research.google.com/github/RUDRAPRAKASHDAS/play-store-app-review-analysis./blob/main/Play_Store_App_Review_Analysis_Capstone_Project.ipynb\" target=\"_parent\"><img src=\"https://colab.research.google.com/assets/colab-badge.svg\" alt=\"Open In Colab\"/></a>"
      ]
    },
    {
      "cell_type": "markdown",
      "metadata": {
        "id": "Y06xIdG26kRF"
      },
      "source": [
        "## <b> The Play Store apps data has enormous potential to drive app-making businesses to success. Actionable insights can be drawn for developers to work on and capture the Android market. </b>\n",
        "\n",
        "## <b> Each app (row) has values for catergory, rating, size, and more. Another dataset contains customer reviews of the android apps.</b>\n",
        "\n",
        "## <b> Explore and analyze the data to discover key factors responsible for app engagement and success. </b>"
      ]
    },
    {
      "cell_type": "markdown",
      "source": [
        "Hello everyone !\n",
        "In this notebook, I am going to analyze Google Play Store datas.Mobile apps are everywhere. They are easy to create and can be lucrative. Because of these two factors, more and more apps are being developed. In this notebook, we will do a comprehensive analysis of the Android app market by comparing over ten thousand apps in Google Play across different categories. We'll look for insights in the data to devise strategies to drive growth and retention.\n",
        "\n",
        "Let's take a look at the data, which consists of two files:\n",
        "\n",
        "playstore data.csv: contains all the details of the applications on Google Play. There are 13 features that describe a given app.\n",
        "\n",
        "user_reviews.csv: contains 100 reviews for each app, most helpful first. The text in each review has been pre-processed and attributed with three new features: Sentiment (Positive, Negative or Neutral), Sentiment Polarity and Sentiment Subjectivity.\n",
        "Exploratory Data Analysis (EDA):\n",
        "EDA is a approach to analyze the using visual technique. It is used to discover trends, patterns, or to check assumptions with the help of statistical summary and graphical representations\n",
        "\n",
        "Importance of EDA : The main purpose of EDA is to help look at data before making any assumptions. It can help identify obvious errors, as well as better understand patterns within the data, detect outliers or anomalous events, find interesting relations among the variables.\n",
        "\n",
        "image.png\n",
        "\n",
        "image.png\n",
        "Steps Involved in Exploratory Data Analysis :\n",
        "\n",
        "1. Data Collection : Data collection is an essential part of exploratory data analysis. It refers to the process of finding and loading data into our system. Good, reliable data can be found on various public sites or bought from private organizations.\n",
        "\n",
        "2. Data Cleaning: Data cleaning refers to the process of removing unwanted variables and values from your dataset and getting rid of any irregularities in it. Such anomalies can disproportionately skew the data and hence adversely affect the results. Some steps that can be done to clean data are:\n",
        "\n",
        "Removing missing values, outliers, and unnecessary rows/ columns.\n",
        "Re-indexing and reformatting our data.\n",
        "3. Univariate Analysis: In Univariate Analysis, you analyze data of just one variable. A variable in your dataset refers to a single feature/ column. You can do this either with graphical or non-graphical means by finding specific mathematical values in the data. Some visual methods include:\n",
        "\n",
        "Histograms: Bar plots in which the frequency of data is represented with rectangle bars.\n",
        "\n",
        "Box-plots: Here the information is represented in the form of boxes.\n",
        "\n",
        "4. Bivariate Analysis: Here, you use two variables and compare them. This way, you can find how one feature affects the other. It is done with scatter plots, which plot individual data points or correlation matrices that plot the correlation in hues. You can also use boxplots.\n",
        "\n",
        "Let's Explore Play store data:"
      ],
      "metadata": {
        "id": "pvhSEFayVjN9"
      }
    },
    {
      "cell_type": "code",
      "metadata": {
        "id": "dByMsuzT8Tnw"
      },
      "source": [
        "import pandas as pd #Data processing I/o(e.g df.read_csv)\n",
        "import numpy as np #liner algebra\n",
        "import matplotlib.pyplot as plt\n",
        "import seaborn as sns #visualition tools\n",
        "import warnings\n",
        "warnings.filterwarnings(\"ignore\")\n"
      ],
      "execution_count": 6,
      "outputs": []
    },
    {
      "cell_type": "code",
      "source": [
        "from google.colab import drive\n",
        "drive.mount('/content/drive')"
      ],
      "metadata": {
        "colab": {
          "base_uri": "https://localhost:8080/"
        },
        "id": "XMi-bB04TMNZ",
        "outputId": "beb017dd-875d-48b4-e00e-61b7132e353a"
      },
      "execution_count": 7,
      "outputs": [
        {
          "output_type": "stream",
          "name": "stdout",
          "text": [
            "Drive already mounted at /content/drive; to attempt to forcibly remount, call drive.mount(\"/content/drive\", force_remount=True).\n"
          ]
        }
      ]
    },
    {
      "cell_type": "code",
      "source": [],
      "metadata": {
        "id": "50tg3vBxW3z-"
      },
      "execution_count": null,
      "outputs": []
    },
    {
      "cell_type": "markdown",
      "source": [
        "# New Section"
      ],
      "metadata": {
        "id": "S1izItbQaUzK"
      }
    }
  ]
}